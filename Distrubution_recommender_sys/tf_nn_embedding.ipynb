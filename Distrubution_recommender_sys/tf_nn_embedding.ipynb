{
 "cells": [
  {
   "cell_type": "code",
   "execution_count": 1,
   "metadata": {},
   "outputs": [
    {
     "name": "stdout",
     "output_type": "stream",
     "text": [
      "2021-05-08 16:56:07.285 WARN [component.py:675] TrainingComponent_logger - \u0001\u0001chart将从本地获取，本地路径：/app/arsenal_magic/charts/tensorflow-launcher-0.0.10.tgz\n",
      "2021-05-08 16:56:07.362 INFO [helm_util.py:154] helm_logger - \u0001\u0001install chart start !\n",
      "2021-05-08 16:56:10.492 INFO [helm_util.py:160] helm_logger - \u0001\u0001install chart success, release_name: \u001b[1;38;5;21mintentional-opossum\u001b[0m \n",
      "2021-05-08 16:56:10.493 INFO [training.py:189] TrainingComponent_logger - \u0001\u0001Training Job[train] is running, Output: /models/tensorflow24/train\n",
      "2021-05-08 16:56:11.247 INFO [workflow.py:522] WorkFlow_logger - \u0001\u0001也可以通过点击下方链接，查看es日志\n"
     ]
    },
    {
     "data": {
      "text/html": [
       "<a href=\"http://log-elk.weizhipin.com/s/arsenal_pro/app/infra#/logs/stream?_g=()&flyoutOptions=(flyoutId:!n,flyoutVisibility:hidden,surroundingLogsId:!n)&logPosition=(position:(tiebreaker:0,time:0),streamLive:!f)&streamLive:!f)&logFilter=(expression:'kubernetes.labels.helm_release:%22intentional-opossum%22%20and%20kubernetes.labels.EXPERIMENT_NAME:%22tensorflow24%22',kind:kuery)&from=now-1h&to=now&refresh=10s&theme=light&kiosk=tv\" target=\"_blank\">查看intentional-opossum日志</a>"
      ],
      "text/plain": [
       "<IPython.core.display.HTML object>"
      ]
     },
     "metadata": {},
     "output_type": "display_data"
    },
    {
     "name": "stdout",
     "output_type": "stream",
     "text": [
      "\u001b[0m8;5;82mchecking pod status ... 2021-05-08 16:56:33.266 WARN [helm_util.py:440] helm_logger - \u0001\u0001当前组件release_name：\u001b[1;38;5;21mintentional-opossum\u001b[0m为\u001b[1;38;5;21mpending\u001b[0m状态, 如果此状态延续7200秒，任务将会被删除，如果想延长此时间可用 --pending_wait_time 200 延长至200秒，最长不超过 --pending_wait_time 2h （2小时），当前的异常具体原因为:\n",
      "\u001b[1;38;5;21m异常类型：ContainersReady，异常描述：containers with unready status: [tensorflow]\n",
      "异常类型：Ready，异常描述：containers with unready status: [tensorflow]\u001b[0m \n",
      "\n",
      "\u001b[0m8;5;82mchecking pod status ...  2021-05-08 16:56:58.804 INFO [helm_util.py:467] helm_logger - \u0001\u0001\u001b[1;38;5;21mpod启动成功，下面为调度到机器的信息：\n",
      "pod_name: wb-cuidongdong-m-tra-intentional-opossum-tfjob-ps-0, 所在主机ip：172.24.16.119，所在主机名：dx-k8sarsenalwork-110\n",
      "pod_name: wb-cuidongdong-m-tra-intentional-opossum-tfjob-ps-1, 所在主机ip：172.24.16.119，所在主机名：dx-k8sarsenalwork-110\n",
      "pod_name: wb-cuidongdong-m-tra-intentional-opossum-tfjob-worker-0, 所在主机ip：172.24.16.73，所在主机名：dx-k8sarsenalwork-35\n",
      "pod_name: wb-cuidongdong-m-tra-intentional-opossum-tfjob-worker-1, 所在主机ip：172.24.16.73，所在主机名：dx-k8sarsenalwork-35\u001b[0m \n",
      "\u001b[1m\u0001\u0001查看日志：'%model_training logs'                    \u001b[0m \n",
      "\u001b[1m\u0001\u0001安全等待任务完成：'%model_training await_done'\u001b[0m  \n",
      "\u001b[1m\u0001\u0001不再等待，立即终止程序：'%model_training await_done --force'\u001b[0m  \n"
     ]
    }
   ],
   "source": [
    "%%model_training submit\n",
    "-f tensorflow\n",
    "--data_input=/dataset/example/\n",
    "--parallel_mode=1\n",
    "--work_dir=/privatecode/tensorflow24/\n",
    "--pss=2\n",
    "--ps_img=harbor.weizhipin.com/arsenal_notebook/tfra:0.0.1\n",
    "--ps_cmd=python\n",
    "--ps_args=tf_nn_embedding.py\n",
    "--ps_cpu=4\n",
    "--ps_memory=8Gi\n",
    "--workers=2\n",
    "--worker_img=harbor.weizhipin.com/arsenal_notebook/tfra:0.0.1\n",
    "--worker_cmd=python\n",
    "--worker_args=tfra-movielens-1m.py\n",
    "--worker_cpu=2\n",
    "--worker_memory=16Gi\n",
    "--disable_data_save_mode\n",
    "--disable_model_version\n",
    "--pending_wait_time 2h"
   ]
  },
  {
   "cell_type": "code",
   "execution_count": 2,
   "metadata": {},
   "outputs": [
    {
     "name": "stdout",
     "output_type": "stream",
     "text": [
      "\u001b[1;38;5;21m**********************************************************************************\u001b[0m\n",
      "\u001b[1;38;5;21m*****************如未登陆请使用账号：arsenal_read 密码：arsenal_read *****************\u001b[0m\n",
      "\u001b[1;38;5;21m**********************************************************************************\u001b[0m\n"
     ]
    },
    {
     "data": {
      "text/html": [
       "\n",
       "        <iframe\n",
       "            width=\"100%\"\n",
       "            height=\"800\"\n",
       "            src=\"http://log-elk.weizhipin.com/s/arsenal_pro/app/infra#/logs/stream?_g=()&flyoutOptions=(flyoutId:KsAkhW8BW_AwBUnZiELf,flyoutVisibility:hidden,surroundingLogsId:!n)&logFilter=(expression:'kubernetes.pod.name:%22wb-cuidongdong-m-tra-intentional-opossum-tfjob-ps-0%22%20',kind:kuery)&logPosition=(position:(tiebreaker:0,time:0),streamLive:!f&refresh=120s)&streamLive:!f)\"\n",
       "            frameborder=\"0\"\n",
       "            allowfullscreen\n",
       "        ></iframe>\n",
       "        "
      ],
      "text/plain": [
       "<IPython.lib.display.IFrame at 0x7fb7696e84a8>"
      ]
     },
     "execution_count": 2,
     "metadata": {},
     "output_type": "execute_result"
    }
   ],
   "source": [
    "%model_training logs"
   ]
  },
  {
   "cell_type": "code",
   "execution_count": null,
   "metadata": {},
   "outputs": [],
   "source": [
    "%model_training await_done"
   ]
  },
  {
   "cell_type": "code",
   "execution_count": null,
   "metadata": {},
   "outputs": [],
   "source": []
  },
  {
   "cell_type": "code",
   "execution_count": null,
   "metadata": {},
   "outputs": [],
   "source": []
  }
 ],
 "metadata": {
  "kernelspec": {
   "display_name": "Python 3",
   "language": "python",
   "name": "python3"
  },
  "language_info": {
   "codemirror_mode": {
    "name": "ipython",
    "version": 3
   },
   "file_extension": ".py",
   "mimetype": "text/x-python",
   "name": "python",
   "nbconvert_exporter": "python",
   "pygments_lexer": "ipython3",
   "version": "3.6.9"
  }
 },
 "nbformat": 4,
 "nbformat_minor": 4
}
